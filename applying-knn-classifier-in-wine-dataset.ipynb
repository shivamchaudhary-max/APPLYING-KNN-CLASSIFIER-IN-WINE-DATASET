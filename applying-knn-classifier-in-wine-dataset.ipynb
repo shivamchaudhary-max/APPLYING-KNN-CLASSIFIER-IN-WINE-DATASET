{
 "cells": [
  {
   "cell_type": "code",
   "execution_count": 1,
   "id": "6525a550",
   "metadata": {
    "execution": {
     "iopub.execute_input": "2022-01-21T07:41:37.677746Z",
     "iopub.status.busy": "2022-01-21T07:41:37.677038Z",
     "iopub.status.idle": "2022-01-21T07:41:39.060996Z",
     "shell.execute_reply": "2022-01-21T07:41:39.060195Z",
     "shell.execute_reply.started": "2022-01-21T07:35:11.981237Z"
    },
    "papermill": {
     "duration": 1.410857,
     "end_time": "2022-01-21T07:41:39.061190",
     "exception": false,
     "start_time": "2022-01-21T07:41:37.650333",
     "status": "completed"
    },
    "tags": []
   },
   "outputs": [],
   "source": [
    "import pandas as pd\n",
    "import numpy as np\n",
    "from sklearn.neighbors  import KNeighborsClassifier\n",
    "#from sklearn import metrics\n",
    "from sklearn import model_selection\n",
    "from sklearn.model_selection import train_test_split\n",
    "from sklearn.model_selection import StratifiedKFold\n",
    "from sklearn.model_selection import KFold\n",
    "import matplotlib.pyplot as plt"
   ]
  },
  {
   "cell_type": "code",
   "execution_count": 2,
   "id": "88037e99",
   "metadata": {
    "execution": {
     "iopub.execute_input": "2022-01-21T07:41:39.098555Z",
     "iopub.status.busy": "2022-01-21T07:41:39.097828Z",
     "iopub.status.idle": "2022-01-21T07:41:39.102640Z",
     "shell.execute_reply": "2022-01-21T07:41:39.103350Z",
     "shell.execute_reply.started": "2022-01-21T07:35:18.572196Z"
    },
    "papermill": {
     "duration": 0.025212,
     "end_time": "2022-01-21T07:41:39.103549",
     "exception": false,
     "start_time": "2022-01-21T07:41:39.078337",
     "status": "completed"
    },
    "tags": []
   },
   "outputs": [],
   "source": [
    "columns=['alcohol', 'malic_acid', 'ash', 'alcalinity_of_ash', \n",
    "'magnesium', 'total_phenols', 'flavanoids', 'nonflavanoid_phenols', 'proanthocyanins', \n",
    "'color_intensity', 'hue', 'od280/od315_of_diluted_wines', 'proline','type of cultivars']"
   ]
  },
  {
   "cell_type": "code",
   "execution_count": 3,
   "id": "550e15f5",
   "metadata": {
    "execution": {
     "iopub.execute_input": "2022-01-21T07:41:39.143923Z",
     "iopub.status.busy": "2022-01-21T07:41:39.143112Z",
     "iopub.status.idle": "2022-01-21T07:41:39.165365Z",
     "shell.execute_reply": "2022-01-21T07:41:39.165947Z",
     "shell.execute_reply.started": "2022-01-21T07:36:51.808035Z"
    },
    "papermill": {
     "duration": 0.045818,
     "end_time": "2022-01-21T07:41:39.166156",
     "exception": false,
     "start_time": "2022-01-21T07:41:39.120338",
     "status": "completed"
    },
    "tags": []
   },
   "outputs": [],
   "source": [
    "wine=pd.read_csv('../input/wine-dataset/wine.csv',header=None,names=columns)"
   ]
  },
  {
   "cell_type": "code",
   "execution_count": 4,
   "id": "2bdc65c7",
   "metadata": {
    "execution": {
     "iopub.execute_input": "2022-01-21T07:41:39.204644Z",
     "iopub.status.busy": "2022-01-21T07:41:39.203975Z",
     "iopub.status.idle": "2022-01-21T07:41:39.214807Z",
     "shell.execute_reply": "2022-01-21T07:41:39.215309Z",
     "shell.execute_reply.started": "2022-01-21T07:37:04.691194Z"
    },
    "papermill": {
     "duration": 0.033011,
     "end_time": "2022-01-21T07:41:39.215484",
     "exception": false,
     "start_time": "2022-01-21T07:41:39.182473",
     "status": "completed"
    },
    "tags": []
   },
   "outputs": [
    {
     "data": {
      "text/plain": [
       "alcohol                         0\n",
       "malic_acid                      0\n",
       "ash                             0\n",
       "alcalinity_of_ash               0\n",
       "magnesium                       0\n",
       "total_phenols                   0\n",
       "flavanoids                      0\n",
       "nonflavanoid_phenols            0\n",
       "proanthocyanins                 0\n",
       "color_intensity                 0\n",
       "hue                             0\n",
       "od280/od315_of_diluted_wines    0\n",
       "proline                         0\n",
       "type of cultivars               0\n",
       "dtype: int64"
      ]
     },
     "execution_count": 4,
     "metadata": {},
     "output_type": "execute_result"
    }
   ],
   "source": [
    "wine.isnull().sum()"
   ]
  },
  {
   "cell_type": "code",
   "execution_count": 5,
   "id": "48277537",
   "metadata": {
    "execution": {
     "iopub.execute_input": "2022-01-21T07:41:39.255772Z",
     "iopub.status.busy": "2022-01-21T07:41:39.255072Z",
     "iopub.status.idle": "2022-01-21T07:41:39.280615Z",
     "shell.execute_reply": "2022-01-21T07:41:39.281184Z",
     "shell.execute_reply.started": "2022-01-21T07:37:17.782997Z"
    },
    "papermill": {
     "duration": 0.049266,
     "end_time": "2022-01-21T07:41:39.281362",
     "exception": false,
     "start_time": "2022-01-21T07:41:39.232096",
     "status": "completed"
    },
    "tags": []
   },
   "outputs": [
    {
     "data": {
      "text/html": [
       "<div>\n",
       "<style scoped>\n",
       "    .dataframe tbody tr th:only-of-type {\n",
       "        vertical-align: middle;\n",
       "    }\n",
       "\n",
       "    .dataframe tbody tr th {\n",
       "        vertical-align: top;\n",
       "    }\n",
       "\n",
       "    .dataframe thead th {\n",
       "        text-align: right;\n",
       "    }\n",
       "</style>\n",
       "<table border=\"1\" class=\"dataframe\">\n",
       "  <thead>\n",
       "    <tr style=\"text-align: right;\">\n",
       "      <th></th>\n",
       "      <th>alcohol</th>\n",
       "      <th>malic_acid</th>\n",
       "      <th>ash</th>\n",
       "      <th>alcalinity_of_ash</th>\n",
       "      <th>magnesium</th>\n",
       "      <th>total_phenols</th>\n",
       "      <th>flavanoids</th>\n",
       "      <th>nonflavanoid_phenols</th>\n",
       "      <th>proanthocyanins</th>\n",
       "      <th>color_intensity</th>\n",
       "      <th>hue</th>\n",
       "      <th>od280/od315_of_diluted_wines</th>\n",
       "      <th>proline</th>\n",
       "      <th>type of cultivars</th>\n",
       "    </tr>\n",
       "  </thead>\n",
       "  <tbody>\n",
       "    <tr>\n",
       "      <th>0</th>\n",
       "      <td>1</td>\n",
       "      <td>14.23</td>\n",
       "      <td>1.71</td>\n",
       "      <td>2.43</td>\n",
       "      <td>15.6</td>\n",
       "      <td>127</td>\n",
       "      <td>2.80</td>\n",
       "      <td>3.06</td>\n",
       "      <td>0.28</td>\n",
       "      <td>2.29</td>\n",
       "      <td>5.64</td>\n",
       "      <td>1.04</td>\n",
       "      <td>3.92</td>\n",
       "      <td>1065</td>\n",
       "    </tr>\n",
       "    <tr>\n",
       "      <th>1</th>\n",
       "      <td>1</td>\n",
       "      <td>13.20</td>\n",
       "      <td>1.78</td>\n",
       "      <td>2.14</td>\n",
       "      <td>11.2</td>\n",
       "      <td>100</td>\n",
       "      <td>2.65</td>\n",
       "      <td>2.76</td>\n",
       "      <td>0.26</td>\n",
       "      <td>1.28</td>\n",
       "      <td>4.38</td>\n",
       "      <td>1.05</td>\n",
       "      <td>3.40</td>\n",
       "      <td>1050</td>\n",
       "    </tr>\n",
       "    <tr>\n",
       "      <th>2</th>\n",
       "      <td>1</td>\n",
       "      <td>13.16</td>\n",
       "      <td>2.36</td>\n",
       "      <td>2.67</td>\n",
       "      <td>18.6</td>\n",
       "      <td>101</td>\n",
       "      <td>2.80</td>\n",
       "      <td>3.24</td>\n",
       "      <td>0.30</td>\n",
       "      <td>2.81</td>\n",
       "      <td>5.68</td>\n",
       "      <td>1.03</td>\n",
       "      <td>3.17</td>\n",
       "      <td>1185</td>\n",
       "    </tr>\n",
       "    <tr>\n",
       "      <th>3</th>\n",
       "      <td>1</td>\n",
       "      <td>14.37</td>\n",
       "      <td>1.95</td>\n",
       "      <td>2.50</td>\n",
       "      <td>16.8</td>\n",
       "      <td>113</td>\n",
       "      <td>3.85</td>\n",
       "      <td>3.49</td>\n",
       "      <td>0.24</td>\n",
       "      <td>2.18</td>\n",
       "      <td>7.80</td>\n",
       "      <td>0.86</td>\n",
       "      <td>3.45</td>\n",
       "      <td>1480</td>\n",
       "    </tr>\n",
       "    <tr>\n",
       "      <th>4</th>\n",
       "      <td>1</td>\n",
       "      <td>13.24</td>\n",
       "      <td>2.59</td>\n",
       "      <td>2.87</td>\n",
       "      <td>21.0</td>\n",
       "      <td>118</td>\n",
       "      <td>2.80</td>\n",
       "      <td>2.69</td>\n",
       "      <td>0.39</td>\n",
       "      <td>1.82</td>\n",
       "      <td>4.32</td>\n",
       "      <td>1.04</td>\n",
       "      <td>2.93</td>\n",
       "      <td>735</td>\n",
       "    </tr>\n",
       "  </tbody>\n",
       "</table>\n",
       "</div>"
      ],
      "text/plain": [
       "   alcohol  malic_acid   ash  alcalinity_of_ash  magnesium  total_phenols  \\\n",
       "0        1       14.23  1.71               2.43       15.6            127   \n",
       "1        1       13.20  1.78               2.14       11.2            100   \n",
       "2        1       13.16  2.36               2.67       18.6            101   \n",
       "3        1       14.37  1.95               2.50       16.8            113   \n",
       "4        1       13.24  2.59               2.87       21.0            118   \n",
       "\n",
       "   flavanoids  nonflavanoid_phenols  proanthocyanins  color_intensity   hue  \\\n",
       "0        2.80                  3.06             0.28             2.29  5.64   \n",
       "1        2.65                  2.76             0.26             1.28  4.38   \n",
       "2        2.80                  3.24             0.30             2.81  5.68   \n",
       "3        3.85                  3.49             0.24             2.18  7.80   \n",
       "4        2.80                  2.69             0.39             1.82  4.32   \n",
       "\n",
       "   od280/od315_of_diluted_wines  proline  type of cultivars  \n",
       "0                          1.04     3.92               1065  \n",
       "1                          1.05     3.40               1050  \n",
       "2                          1.03     3.17               1185  \n",
       "3                          0.86     3.45               1480  \n",
       "4                          1.04     2.93                735  "
      ]
     },
     "execution_count": 5,
     "metadata": {},
     "output_type": "execute_result"
    }
   ],
   "source": [
    "wine.head()"
   ]
  },
  {
   "cell_type": "code",
   "execution_count": 6,
   "id": "d9727e81",
   "metadata": {
    "execution": {
     "iopub.execute_input": "2022-01-21T07:41:39.320030Z",
     "iopub.status.busy": "2022-01-21T07:41:39.319262Z",
     "iopub.status.idle": "2022-01-21T07:41:39.327956Z",
     "shell.execute_reply": "2022-01-21T07:41:39.327380Z",
     "shell.execute_reply.started": "2022-01-21T07:37:31.727707Z"
    },
    "papermill": {
     "duration": 0.029644,
     "end_time": "2022-01-21T07:41:39.328115",
     "exception": false,
     "start_time": "2022-01-21T07:41:39.298471",
     "status": "completed"
    },
    "tags": []
   },
   "outputs": [
    {
     "data": {
      "text/plain": [
       "alcohol                           int64\n",
       "malic_acid                      float64\n",
       "ash                             float64\n",
       "alcalinity_of_ash               float64\n",
       "magnesium                       float64\n",
       "total_phenols                     int64\n",
       "flavanoids                      float64\n",
       "nonflavanoid_phenols            float64\n",
       "proanthocyanins                 float64\n",
       "color_intensity                 float64\n",
       "hue                             float64\n",
       "od280/od315_of_diluted_wines    float64\n",
       "proline                         float64\n",
       "type of cultivars                 int64\n",
       "dtype: object"
      ]
     },
     "execution_count": 6,
     "metadata": {},
     "output_type": "execute_result"
    }
   ],
   "source": [
    "wine.dtypes"
   ]
  },
  {
   "cell_type": "code",
   "execution_count": 7,
   "id": "4a237ef0",
   "metadata": {
    "execution": {
     "iopub.execute_input": "2022-01-21T07:41:39.367450Z",
     "iopub.status.busy": "2022-01-21T07:41:39.366744Z",
     "iopub.status.idle": "2022-01-21T07:41:39.375090Z",
     "shell.execute_reply": "2022-01-21T07:41:39.375627Z",
     "shell.execute_reply.started": "2022-01-21T07:37:45.509182Z"
    },
    "papermill": {
     "duration": 0.030474,
     "end_time": "2022-01-21T07:41:39.375813",
     "exception": false,
     "start_time": "2022-01-21T07:41:39.345339",
     "status": "completed"
    },
    "tags": []
   },
   "outputs": [],
   "source": [
    "x=wine.iloc[:,1:14]\n",
    "y=wine.iloc[:,0]\n",
    "\n"
   ]
  },
  {
   "cell_type": "code",
   "execution_count": 8,
   "id": "62520a1a",
   "metadata": {
    "execution": {
     "iopub.execute_input": "2022-01-21T07:41:39.421284Z",
     "iopub.status.busy": "2022-01-21T07:41:39.420366Z",
     "iopub.status.idle": "2022-01-21T07:41:39.423294Z",
     "shell.execute_reply": "2022-01-21T07:41:39.423854Z",
     "shell.execute_reply.started": "2022-01-21T07:37:57.399809Z"
    },
    "papermill": {
     "duration": 0.030907,
     "end_time": "2022-01-21T07:41:39.424080",
     "exception": false,
     "start_time": "2022-01-21T07:41:39.393173",
     "status": "completed"
    },
    "tags": []
   },
   "outputs": [],
   "source": [
    "x_train,x_test,y_train,y_test = train_test_split(x,y,test_size=0.2,random_state=0)"
   ]
  },
  {
   "cell_type": "code",
   "execution_count": 9,
   "id": "3e9403b3",
   "metadata": {
    "execution": {
     "iopub.execute_input": "2022-01-21T07:41:39.465274Z",
     "iopub.status.busy": "2022-01-21T07:41:39.464583Z",
     "iopub.status.idle": "2022-01-21T07:41:39.468609Z",
     "shell.execute_reply": "2022-01-21T07:41:39.469208Z",
     "shell.execute_reply.started": "2022-01-21T07:38:09.138149Z"
    },
    "papermill": {
     "duration": 0.026398,
     "end_time": "2022-01-21T07:41:39.469421",
     "exception": false,
     "start_time": "2022-01-21T07:41:39.443023",
     "status": "completed"
    },
    "tags": []
   },
   "outputs": [],
   "source": [
    "#Setup arrays to store training and test accuracies\n",
    "neighbors = np.arange(1,10)\n",
    "neighbors\n",
    "train_accuracy =np.empty(len(neighbors))\n",
    "test_accuracy = np.empty(len(neighbors))\n"
   ]
  },
  {
   "cell_type": "code",
   "execution_count": 10,
   "id": "80c7b643",
   "metadata": {
    "execution": {
     "iopub.execute_input": "2022-01-21T07:41:39.510367Z",
     "iopub.status.busy": "2022-01-21T07:41:39.509668Z",
     "iopub.status.idle": "2022-01-21T07:41:39.644365Z",
     "shell.execute_reply": "2022-01-21T07:41:39.645017Z",
     "shell.execute_reply.started": "2022-01-21T07:38:22.774492Z"
    },
    "papermill": {
     "duration": 0.157017,
     "end_time": "2022-01-21T07:41:39.645245",
     "exception": false,
     "start_time": "2022-01-21T07:41:39.488228",
     "status": "completed"
    },
    "tags": []
   },
   "outputs": [],
   "source": [
    "for i,k in enumerate(neighbors):\n",
    "    #Setup a knn classifier with k neighbors\n",
    "    knn = KNeighborsClassifier(n_neighbors=k)\n",
    "    \n",
    "    #Fit the model\n",
    "    knn.fit(x_train, y_train)\n",
    "    \n",
    "    #Compute accuracy on the training set\n",
    "    train_accuracy[i] = knn.score(x_train, y_train)\n",
    "    \n",
    "    #Compute accuracy on the test set\n",
    "    test_accuracy[i] = knn.score(x_test, y_test)\n",
    "    "
   ]
  },
  {
   "cell_type": "code",
   "execution_count": 11,
   "id": "e88ade6f",
   "metadata": {
    "execution": {
     "iopub.execute_input": "2022-01-21T07:41:39.693855Z",
     "iopub.status.busy": "2022-01-21T07:41:39.684529Z",
     "iopub.status.idle": "2022-01-21T07:41:39.958961Z",
     "shell.execute_reply": "2022-01-21T07:41:39.959477Z",
     "shell.execute_reply.started": "2022-01-21T07:38:37.076270Z"
    },
    "papermill": {
     "duration": 0.296608,
     "end_time": "2022-01-21T07:41:39.959717",
     "exception": false,
     "start_time": "2022-01-21T07:41:39.663109",
     "status": "completed"
    },
    "tags": []
   },
   "outputs": [
    {
     "data": {
      "image/png": "[encoded data removed]",
      "text/plain": [
       "<Figure size 432x288 with 1 Axes>"
      ]
     },
     "metadata": {
      "needs_background": "light"
     },
     "output_type": "display_data"
    }
   ],
   "source": [
    "#Generate plot\n",
    "plt.title('k-NN Varying number of neighbors')\n",
    "plt.plot(neighbors, test_accuracy, label='Testing Accuracy')\n",
    "plt.plot(neighbors, train_accuracy, label='Training accuracy')\n",
    "plt.legend()\n",
    "plt.xlabel('Number of neighbors')\n",
    "plt.ylabel('Accuracy')\n",
    "plt.show()"
   ]
  },
  {
   "cell_type": "code",
   "execution_count": 12,
   "id": "fd6547ef",
   "metadata": {
    "execution": {
     "iopub.execute_input": "2022-01-21T07:41:40.007010Z",
     "iopub.status.busy": "2022-01-21T07:41:40.005672Z",
     "iopub.status.idle": "2022-01-21T07:41:40.014279Z",
     "shell.execute_reply": "2022-01-21T07:41:40.013677Z",
     "shell.execute_reply.started": "2022-01-21T07:38:52.693801Z"
    },
    "papermill": {
     "duration": 0.035274,
     "end_time": "2022-01-21T07:41:40.014451",
     "exception": false,
     "start_time": "2022-01-21T07:41:39.979177",
     "status": "completed"
    },
    "tags": []
   },
   "outputs": [
    {
     "data": {
      "text/plain": [
       "KNeighborsClassifier(n_neighbors=7)"
      ]
     },
     "execution_count": 12,
     "metadata": {},
     "output_type": "execute_result"
    }
   ],
   "source": [
    "#Setup a knn classifier with k neighbors\n",
    "knn = KNeighborsClassifier(n_neighbors=7)\n",
    "#Fit the model\n",
    "knn.fit(x_train,y_train)"
   ]
  },
  {
   "cell_type": "code",
   "execution_count": 13,
   "id": "bb4ea59e",
   "metadata": {
    "execution": {
     "iopub.execute_input": "2022-01-21T07:41:40.065765Z",
     "iopub.status.busy": "2022-01-21T07:41:40.064842Z",
     "iopub.status.idle": "2022-01-21T07:41:40.070731Z",
     "shell.execute_reply": "2022-01-21T07:41:40.070099Z",
     "shell.execute_reply.started": "2022-01-21T07:39:05.733124Z"
    },
    "papermill": {
     "duration": 0.036463,
     "end_time": "2022-01-21T07:41:40.070911",
     "exception": false,
     "start_time": "2022-01-21T07:41:40.034448",
     "status": "completed"
    },
    "tags": []
   },
   "outputs": [
    {
     "data": {
      "text/plain": [
       "0.7777777777777778"
      ]
     },
     "execution_count": 13,
     "metadata": {},
     "output_type": "execute_result"
    }
   ],
   "source": [
    "#Get accuracy. Note: In case of classification algorithms score method represents accuracy.\n",
    "knn.score(x_test,y_test)"
   ]
  },
  {
   "cell_type": "code",
   "execution_count": 14,
   "id": "06e4a4eb",
   "metadata": {
    "execution": {
     "iopub.execute_input": "2022-01-21T07:41:40.117659Z",
     "iopub.status.busy": "2022-01-21T07:41:40.116868Z",
     "iopub.status.idle": "2022-01-21T07:41:40.129084Z",
     "shell.execute_reply": "2022-01-21T07:41:40.128414Z",
     "shell.execute_reply.started": "2022-01-21T07:39:16.309825Z"
    },
    "papermill": {
     "duration": 0.038477,
     "end_time": "2022-01-21T07:41:40.129252",
     "exception": false,
     "start_time": "2022-01-21T07:41:40.090775",
     "status": "completed"
    },
    "tags": []
   },
   "outputs": [
    {
     "data": {
      "text/plain": [
       "0.7535211267605634"
      ]
     },
     "execution_count": 14,
     "metadata": {},
     "output_type": "execute_result"
    }
   ],
   "source": [
    "#Get accuracy. Note: In case of classification algorithms score method represents accuracy.\n",
    "knn.score(x_train,y_train)"
   ]
  },
  {
   "cell_type": "code",
   "execution_count": 15,
   "id": "0506798d",
   "metadata": {
    "execution": {
     "iopub.execute_input": "2022-01-21T07:41:40.177846Z",
     "iopub.status.busy": "2022-01-21T07:41:40.177068Z",
     "iopub.status.idle": "2022-01-21T07:41:40.186927Z",
     "shell.execute_reply": "2022-01-21T07:41:40.187512Z",
     "shell.execute_reply.started": "2022-01-21T07:39:43.732468Z"
    },
    "papermill": {
     "duration": 0.037099,
     "end_time": "2022-01-21T07:41:40.187761",
     "exception": false,
     "start_time": "2022-01-21T07:41:40.150662",
     "status": "completed"
    },
    "tags": []
   },
   "outputs": [
    {
     "data": {
      "text/plain": [
       "array([[13,  0,  1],\n",
       "       [ 0, 12,  4],\n",
       "       [ 1,  2,  3]])"
      ]
     },
     "execution_count": 15,
     "metadata": {},
     "output_type": "execute_result"
    }
   ],
   "source": [
    "#import confusion_matrix\n",
    "from sklearn.metrics import confusion_matrix\n",
    "#let us get the predictions using the classifier we had fit above\n",
    "y_pred = knn.predict(x_test)\n",
    "confusion_matrix(y_test,y_pred)"
   ]
  },
  {
   "cell_type": "code",
   "execution_count": 16,
   "id": "62f38fc0",
   "metadata": {
    "execution": {
     "iopub.execute_input": "2022-01-21T07:41:40.239191Z",
     "iopub.status.busy": "2022-01-21T07:41:40.238451Z",
     "iopub.status.idle": "2022-01-21T07:41:40.292835Z",
     "shell.execute_reply": "2022-01-21T07:41:40.292248Z",
     "shell.execute_reply.started": "2022-01-21T07:39:57.740130Z"
    },
    "papermill": {
     "duration": 0.08452,
     "end_time": "2022-01-21T07:41:40.292999",
     "exception": false,
     "start_time": "2022-01-21T07:41:40.208479",
     "status": "completed"
    },
    "tags": []
   },
   "outputs": [
    {
     "data": {
      "text/html": [
       "<div>\n",
       "<style scoped>\n",
       "    .dataframe tbody tr th:only-of-type {\n",
       "        vertical-align: middle;\n",
       "    }\n",
       "\n",
       "    .dataframe tbody tr th {\n",
       "        vertical-align: top;\n",
       "    }\n",
       "\n",
       "    .dataframe thead th {\n",
       "        text-align: right;\n",
       "    }\n",
       "</style>\n",
       "<table border=\"1\" class=\"dataframe\">\n",
       "  <thead>\n",
       "    <tr style=\"text-align: right;\">\n",
       "      <th>Predicted</th>\n",
       "      <th>1</th>\n",
       "      <th>2</th>\n",
       "      <th>3</th>\n",
       "      <th>All</th>\n",
       "    </tr>\n",
       "    <tr>\n",
       "      <th>True</th>\n",
       "      <th></th>\n",
       "      <th></th>\n",
       "      <th></th>\n",
       "      <th></th>\n",
       "    </tr>\n",
       "  </thead>\n",
       "  <tbody>\n",
       "    <tr>\n",
       "      <th>1</th>\n",
       "      <td>13</td>\n",
       "      <td>0</td>\n",
       "      <td>1</td>\n",
       "      <td>14</td>\n",
       "    </tr>\n",
       "    <tr>\n",
       "      <th>2</th>\n",
       "      <td>0</td>\n",
       "      <td>12</td>\n",
       "      <td>4</td>\n",
       "      <td>16</td>\n",
       "    </tr>\n",
       "    <tr>\n",
       "      <th>3</th>\n",
       "      <td>1</td>\n",
       "      <td>2</td>\n",
       "      <td>3</td>\n",
       "      <td>6</td>\n",
       "    </tr>\n",
       "    <tr>\n",
       "      <th>All</th>\n",
       "      <td>14</td>\n",
       "      <td>14</td>\n",
       "      <td>8</td>\n",
       "      <td>36</td>\n",
       "    </tr>\n",
       "  </tbody>\n",
       "</table>\n",
       "</div>"
      ],
      "text/plain": [
       "Predicted   1   2  3  All\n",
       "True                     \n",
       "1          13   0  1   14\n",
       "2           0  12  4   16\n",
       "3           1   2  3    6\n",
       "All        14  14  8   36"
      ]
     },
     "execution_count": 16,
     "metadata": {},
     "output_type": "execute_result"
    }
   ],
   "source": [
    "\n",
    "#Confusion matrix can also be obtained using crosstab method of pandas.\n",
    "pd.crosstab(y_test, y_pred, rownames=['True'], colnames=['Predicted'], margins=True)"
   ]
  },
  {
   "cell_type": "code",
   "execution_count": 17,
   "id": "44e40f34",
   "metadata": {
    "execution": {
     "iopub.execute_input": "2022-01-21T07:41:40.343182Z",
     "iopub.status.busy": "2022-01-21T07:41:40.342429Z",
     "iopub.status.idle": "2022-01-21T07:41:40.416288Z",
     "shell.execute_reply": "2022-01-21T07:41:40.416793Z",
     "shell.execute_reply.started": "2022-01-21T07:40:13.757855Z"
    },
    "papermill": {
     "duration": 0.102545,
     "end_time": "2022-01-21T07:41:40.417000",
     "exception": false,
     "start_time": "2022-01-21T07:41:40.314455",
     "status": "completed"
    },
    "tags": []
   },
   "outputs": [
    {
     "name": "stdout",
     "output_type": "stream",
     "text": [
      "Accuracy: 59.64%\n"
     ]
    }
   ],
   "source": [
    "kfold = KFold(n_splits=10)\n",
    "kfold_model=KNeighborsClassifier(n_neighbors=7)\n",
    "results_kfold = model_selection.cross_val_score(kfold_model,x,y, cv=kfold)\n",
    "print(\"Accuracy: %.2f%%\" % (results_kfold.mean()*100.0)) "
   ]
  },
  {
   "cell_type": "code",
   "execution_count": 18,
   "id": "bb559323",
   "metadata": {
    "execution": {
     "iopub.execute_input": "2022-01-21T07:41:40.468275Z",
     "iopub.status.busy": "2022-01-21T07:41:40.467486Z",
     "iopub.status.idle": "2022-01-21T07:41:40.499331Z",
     "shell.execute_reply": "2022-01-21T07:41:40.499815Z",
     "shell.execute_reply.started": "2022-01-21T07:40:23.503154Z"
    },
    "papermill": {
     "duration": 0.062311,
     "end_time": "2022-01-21T07:41:40.500024",
     "exception": false,
     "start_time": "2022-01-21T07:41:40.437713",
     "status": "completed"
    },
    "tags": []
   },
   "outputs": [
    {
     "name": "stdout",
     "output_type": "stream",
     "text": [
      "Accuracy: 65.74%\n"
     ]
    }
   ],
   "source": [
    "skfold = StratifiedKFold(n_splits=3)\n",
    "model_skfold = KNeighborsClassifier(n_neighbors=7)\n",
    "results_skfold = model_selection.cross_val_score(model_skfold,x,y, cv=skfold)\n",
    "print(\"Accuracy: %.2f%%\" % (results_skfold.mean()*100.0))"
   ]
  },
  {
   "cell_type": "code",
   "execution_count": null,
   "id": "a3ce5e53",
   "metadata": {
    "papermill": {
     "duration": 0.021892,
     "end_time": "2022-01-21T07:41:40.543089",
     "exception": false,
     "start_time": "2022-01-21T07:41:40.521197",
     "status": "completed"
    },
    "tags": []
   },
   "outputs": [],
   "source": []
  }
 ],
 "metadata": {
  "kernelspec": {
   "display_name": "Python 3",
   "language": "python",
   "name": "python3"
  },
  "language_info": {
   "codemirror_mode": {
    "name": "ipython",
    "version": 3
   },
   "file_extension": ".py",
   "mimetype": "text/x-python",
   "name": "python",
   "nbconvert_exporter": "python",
   "pygments_lexer": "ipython3",
   "version": "3.7.12"
  },
  "papermill": {
   "default_parameters": {},
   "duration": 16.058702,
   "end_time": "2022-01-21T07:41:41.681167",
   "environment_variables": {},
   "exception": null,
   "input_path": "__notebook__.ipynb",
   "output_path": "__notebook__.ipynb",
   "parameters": {},
   "start_time": "2022-01-21T07:41:25.622465",
   "version": "2.3.3"
  }
 },
 "nbformat": 4,
 "nbformat_minor": 5
}
